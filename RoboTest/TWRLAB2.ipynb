#Autor: Hubert Dziurla
import cv2;
from google.colab.patches import cv2_imshow
import numpy as np
imgload = cv2.imread('TestX1.jpg')
obraz1 =  cv2.cvtColor(imgload,cv2.COLOR_RGB2GRAY);
(thresh,obraz1) = cv2.threshold(obraz1,64,255,0)
element_strukturalny = np.ones((5),np.uint8)
# X - ilość wyliczonych iteracji do wykrywania
# Tryb pracy - dylatacja, erozja
dylat1 = cv2.dilate(obraz1,element_strukturalny,iterations =  X)
contours = cv2.findContours(dylat1, cv2.RETR_TREE, cv2.CHAIN_APPROX_SIMPLE)[0]
imgload = cv2.drawContours(imgload,contours,-1, (0, 0, 255), 4)
cv2_imshow(imgload)
IloscObiektowWObrazie= len(contours)
print ("Wykryto: ", str(IloscObiektowWObrazie)," drzwi.")
